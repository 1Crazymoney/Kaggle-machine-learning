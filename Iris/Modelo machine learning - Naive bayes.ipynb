{
 "cells": [
  {
   "cell_type": "code",
   "execution_count": null,
   "metadata": {},
   "outputs": [],
   "source": [
    "import pandas as pd\n",
    "import numpy as np\n",
    "import seaborn as sns\n",
    "import matplotlib\n",
    "import matplotlib.pyplot as plt\n",
    "%matplotlib inline"
   ]
  },
  {
   "cell_type": "code",
   "execution_count": null,
   "metadata": {},
   "outputs": [],
   "source": [
    "dados = pd.read_csv(\"Iris.csv\")\n",
    "dados"
   ]
  },
  {
   "cell_type": "code",
   "execution_count": null,
   "metadata": {},
   "outputs": [],
   "source": [
    "dados.shape"
   ]
  },
  {
   "cell_type": "code",
   "execution_count": null,
   "metadata": {},
   "outputs": [],
   "source": [
    "dados.head()"
   ]
  },
  {
   "cell_type": "code",
   "execution_count": null,
   "metadata": {},
   "outputs": [],
   "source": [
    "dados.columns = [\"Index\", \"comprimento_sépala\", \"largura_sépala\", \"comprimento_pétala\", \"largura_pétala\", \"espécie\"]\n",
    "dados.head()"
   ]
  },
  {
   "cell_type": "code",
   "execution_count": null,
   "metadata": {},
   "outputs": [],
   "source": [
    "dados.info()"
   ]
  },
  {
   "cell_type": "code",
   "execution_count": null,
   "metadata": {},
   "outputs": [],
   "source": [
    "dados.drop(\"Index\", axis = 1, inplace = True)\n",
    "dados.head(20)"
   ]
  },
  {
   "cell_type": "markdown",
   "metadata": {},
   "source": [
    "# Estatistica"
   ]
  },
  {
   "cell_type": "code",
   "execution_count": null,
   "metadata": {},
   "outputs": [],
   "source": [
    "dados.describe()"
   ]
  },
  {
   "cell_type": "code",
   "execution_count": null,
   "metadata": {},
   "outputs": [],
   "source": [
    "# Média\n",
    "\n",
    "media_geral = dados.comprimento_sépala.mean()\n",
    "print(\"A média geral é de {}\". format(media_geral))"
   ]
  },
  {
   "cell_type": "code",
   "execution_count": null,
   "metadata": {},
   "outputs": [],
   "source": [
    "#Mediana\n",
    "\n",
    "mediana = dados.comprimento_sépala.median()\n",
    "print(\"A mediana geral é de {}\". format(mediana))"
   ]
  },
  {
   "cell_type": "code",
   "execution_count": null,
   "metadata": {},
   "outputs": [],
   "source": [
    "# Moda\n",
    "\n",
    "moda = dados.comprimento_sépala.mode()\n",
    "print(\"A moda geral é de {}\". format(moda))"
   ]
  },
  {
   "cell_type": "markdown",
   "metadata": {},
   "source": [
    "**Média**"
   ]
  },
  {
   "cell_type": "code",
   "execution_count": null,
   "metadata": {},
   "outputs": [],
   "source": [
    "print(\"Media:\", dados[\"comprimento_sépala\"].mean())"
   ]
  },
  {
   "cell_type": "code",
   "execution_count": null,
   "metadata": {},
   "outputs": [],
   "source": [
    "print(\"Media:\", dados[\"largura_sépala\"].mean())"
   ]
  },
  {
   "cell_type": "code",
   "execution_count": null,
   "metadata": {},
   "outputs": [],
   "source": [
    "print(\"Media:\", dados[\"comprimento_pétala\"].mean())"
   ]
  },
  {
   "cell_type": "code",
   "execution_count": null,
   "metadata": {},
   "outputs": [],
   "source": [
    "print(\"Media:\", dados[\"largura_pétala\"].mean())"
   ]
  },
  {
   "cell_type": "markdown",
   "metadata": {},
   "source": [
    "**Mediana**"
   ]
  },
  {
   "cell_type": "code",
   "execution_count": null,
   "metadata": {},
   "outputs": [],
   "source": [
    "print(\"Media:\", dados[\"comprimento_sépala\"].median())"
   ]
  },
  {
   "cell_type": "code",
   "execution_count": null,
   "metadata": {},
   "outputs": [],
   "source": [
    "print(\"Media:\", dados[\"largura_sépala\"].median())"
   ]
  },
  {
   "cell_type": "code",
   "execution_count": null,
   "metadata": {},
   "outputs": [],
   "source": [
    "print(\"Media:\", dados[\"comprimento_pétala\"].median())"
   ]
  },
  {
   "cell_type": "code",
   "execution_count": null,
   "metadata": {},
   "outputs": [],
   "source": [
    "print(\"Media:\", dados[\"largura_pétala\"].median())"
   ]
  },
  {
   "cell_type": "markdown",
   "metadata": {},
   "source": [
    "**Moda**"
   ]
  },
  {
   "cell_type": "code",
   "execution_count": null,
   "metadata": {},
   "outputs": [],
   "source": [
    "print(\"Media:\", dados[\"comprimento_sépala\"].mode())"
   ]
  },
  {
   "cell_type": "code",
   "execution_count": null,
   "metadata": {},
   "outputs": [],
   "source": [
    "print(\"Media:\", dados[\"largura_sépala\"].mode())"
   ]
  },
  {
   "cell_type": "code",
   "execution_count": null,
   "metadata": {},
   "outputs": [],
   "source": [
    "print(\"Media:\", dados[\"comprimento_pétala\"].mode())"
   ]
  },
  {
   "cell_type": "code",
   "execution_count": null,
   "metadata": {},
   "outputs": [],
   "source": [
    "print(\"Media:\", dados[\"largura_pétala\"].mode())"
   ]
  },
  {
   "cell_type": "markdown",
   "metadata": {},
   "source": [
    "# Analise exploratória de dados"
   ]
  },
  {
   "cell_type": "code",
   "execution_count": null,
   "metadata": {},
   "outputs": [],
   "source": [
    "df = plt.figure(figsize=(8, 6))\n",
    "sns.set_style(\"darkgrid\")\n",
    "\n",
    "x1 = sns.distplot(dados['comprimento_pétala'], kde=True)\n",
    "x1.figure.suptitle('Comprimento da pétala')\n",
    "x1.set_title('Análise da pétala')"
   ]
  },
  {
   "cell_type": "code",
   "execution_count": null,
   "metadata": {},
   "outputs": [],
   "source": [
    "df = plt.figure(figsize=(8, 6))\n",
    "\n",
    "x1 = sns.distplot(dados[\"comprimento_pétala\"], kde=False)\n",
    "x1.figure.suptitle('Comprimento da pétala')\n",
    "x1.set_title('Análise da pétala')"
   ]
  },
  {
   "cell_type": "code",
   "execution_count": null,
   "metadata": {},
   "outputs": [],
   "source": [
    "df = plt.figure(figsize=(8, 6))\n",
    "\n",
    "x1 = sns.distplot(dados[\"comprimento_pétala\"], kde=False)\n",
    "x1.figure.suptitle('Comprimento da pétala')\n",
    "x1.set_title('Análise da pétala')"
   ]
  },
  {
   "cell_type": "code",
   "execution_count": null,
   "metadata": {},
   "outputs": [],
   "source": [
    "df = plt.figure(figsize=(8, 6))\n",
    "\n",
    "x1 = sns.distplot(dados[\"largura_sépala\"], kde=False)\n",
    "x1.figure.suptitle('Largura da sépala')\n",
    "x1.set_title('Análise da Sépala')"
   ]
  },
  {
   "cell_type": "code",
   "execution_count": null,
   "metadata": {},
   "outputs": [],
   "source": [
    "df = plt.figure(figsize=(8, 6))\n",
    "\n",
    "x1 = sns.distplot(dados[\"comprimento_pétala\"], kde=False)\n",
    "x1.figure.suptitle('Comprimento da pétala')\n",
    "x1.set_title('Análise da pétala')"
   ]
  },
  {
   "cell_type": "code",
   "execution_count": null,
   "metadata": {},
   "outputs": [],
   "source": [
    "df = plt.figure(figsize=(8, 6))\n",
    "\n",
    "x1 = sns.distplot(dados[\"largura_pétala\"], kde=False)\n",
    "x1.figure.suptitle('A largura da pétala')\n",
    "x1.set_title('Análise da pétala')"
   ]
  },
  {
   "cell_type": "code",
   "execution_count": null,
   "metadata": {},
   "outputs": [],
   "source": [
    "#comprimento_pétala\n",
    "df = plt.figure(figsize=(8, 6))\n",
    "\n",
    "sns.countplot(x=\"comprimento_pétala\", data=dados)"
   ]
  },
  {
   "cell_type": "code",
   "execution_count": null,
   "metadata": {},
   "outputs": [],
   "source": [
    "df = plt.figure(figsize=(8, 6))\n",
    "\n",
    "sns.countplot(x=\"comprimento_sépala\", data=dados)"
   ]
  },
  {
   "cell_type": "code",
   "execution_count": null,
   "metadata": {},
   "outputs": [],
   "source": [
    "df = plt.figure(figsize=(20, 10))\n",
    "\n",
    "df = sns.violinplot(x=\"largura_sépala\", y=\"espécie\", data=dados, palette=\"Set1\" , scale=\"count\")\n",
    "plt.show()"
   ]
  },
  {
   "cell_type": "code",
   "execution_count": null,
   "metadata": {},
   "outputs": [],
   "source": [
    "df = plt.figure(figsize=(20, 10))\n",
    "\n",
    "df = sns.violinplot(x=\"largura_sépala\", y=\"espécie\", data=dados, inner=None)\n",
    "plt.show()"
   ]
  },
  {
   "cell_type": "code",
   "execution_count": null,
   "metadata": {},
   "outputs": [],
   "source": [
    "df = plt.figure(figsize=(8, 6))\n",
    "xf = df.add_axes([0,0,1,1])\n",
    "\n",
    "xf.boxplot(dados.drop(\"espécie\", axis=1).values)\n",
    "x1 = xf.set_title(\"Comprimento da pétala\", fontsize=15, pad=10)\n",
    "x1 = xf.set_xlabel(\"Comprimento da pétala\", fontsize=15)"
   ]
  },
  {
   "cell_type": "code",
   "execution_count": null,
   "metadata": {},
   "outputs": [],
   "source": [
    "df = plt.figure(figsize=(8, 6))\n",
    "\n",
    "sns.boxplot(x=\"comprimento_sépala\", y=\"comprimento_pétala\", data=dados)"
   ]
  },
  {
   "cell_type": "code",
   "execution_count": null,
   "metadata": {},
   "outputs": [],
   "source": [
    "df = plt.figure(figsize=(8, 6))\n",
    "\n",
    "sns.boxplot(x=\"largura_sépala\", y=\"largura_pétala\", data=dados)"
   ]
  },
  {
   "cell_type": "code",
   "execution_count": null,
   "metadata": {},
   "outputs": [],
   "source": [
    "df = plt.figure(figsize=(8, 6))\n",
    "\n",
    "sns.boxplot(x='largura_sépala', y='largura_pétala', data=dados)  \n",
    "sns.boxplot(x='largura_sépala', y='largura_pétala', data=dados, hue='espécie')  \n",
    "sns.boxplot(x='largura_sépala', y='largura_pétala', data=dados) "
   ]
  },
  {
   "cell_type": "code",
   "execution_count": null,
   "metadata": {},
   "outputs": [],
   "source": [
    "df = plt.figure(figsize=(20, 10))\n",
    "\n",
    "df = sns.relplot(x=\"largura_sépala\", y=\"largura_pétala\", hue = \"espécie\", col = \"espécie\", data=dados)\n",
    "df = sns.relplot(x=\"comprimento_sépala\", y=\"comprimento_pétala\", hue = \"espécie\", col = \"espécie\", data=dados)"
   ]
  },
  {
   "cell_type": "code",
   "execution_count": null,
   "metadata": {},
   "outputs": [],
   "source": [
    "df = plt.figure(figsize=(20, 10))\n",
    "\n",
    "plt.subplot(2,2,1)\n",
    "df = sns.boxplot(x=\"largura_sépala\", y=\"espécie\", data=dados)\n",
    "plt.subplot(2,2,2)\n",
    "df = sns.boxplot(x=\"largura_pétala\", y=\"espécie\", data=dados)\n",
    "plt.subplot(2,2,3)\n",
    "df = sns.boxplot(x=\"comprimento_sépala\", y=\"espécie\", data=dados)\n",
    "plt.subplot(2,2,4)\n",
    "df = sns.boxplot(x=\"comprimento_pétala\", y=\"espécie\", data=dados)"
   ]
  },
  {
   "cell_type": "code",
   "execution_count": null,
   "metadata": {},
   "outputs": [],
   "source": [
    "df = plt.figure(figsize=(20, 10))\n",
    "\n",
    "plt.subplot(2,2,1)\n",
    "df = sns.violinplot(x=\"largura_sépala\", y=\"espécie\", data=dados, inner=None)\n",
    "plt.subplot(2,2,2)\n",
    "df = sns.violinplot(x=\"largura_pétala\", y=\"espécie\", data=dados, inner=None)\n",
    "plt.subplot(2,2,3)\n",
    "df = sns.violinplot(x=\"comprimento_sépala\", y=\"espécie\", data=dados, inner=None)\n",
    "plt.subplot(2,2,4)\n",
    "df = sns.violinplot(x=\"comprimento_pétala\", y=\"espécie\", data=dados, inner=None)"
   ]
  },
  {
   "cell_type": "code",
   "execution_count": null,
   "metadata": {},
   "outputs": [],
   "source": [
    "df = plt.figure(figsize=(20, 10))\n",
    "\n",
    "plt.subplot(2,2,1)\n",
    "df = sns.barplot(x=\"largura_sépala\", y=\"espécie\", data=dados)\n",
    "plt.subplot(2,2,2)\n",
    "df = sns.barplot(x=\"largura_pétala\", y=\"espécie\", data=dados)\n",
    "plt.subplot(2,2,3)\n",
    "df = sns.barplot(x=\"comprimento_sépala\", y=\"espécie\", data=dados)\n",
    "plt.subplot(2,2,4)\n",
    "df = sns.barplot(x=\"comprimento_pétala\", y=\"espécie\", data=dados)"
   ]
  },
  {
   "cell_type": "code",
   "execution_count": null,
   "metadata": {},
   "outputs": [],
   "source": [
    "df = plt.figure(figsize=(20, 10))\n",
    "\n",
    "plt.subplot(2,2,1)\n",
    "df = sns.swarmplot(x=\"largura_sépala\", y=\"espécie\", data=dados)\n",
    "plt.subplot(2,2,2)\n",
    "df = sns.swarmplot(x=\"largura_pétala\", y=\"espécie\", data=dados)\n",
    "plt.subplot(2,2,3)\n",
    "df = sns.swarmplot(x=\"comprimento_sépala\", y=\"espécie\", data=dados)\n",
    "plt.subplot(2,2,4)\n",
    "df = sns.swarmplot(x=\"comprimento_pétala\", y=\"espécie\", data=dados)"
   ]
  },
  {
   "cell_type": "code",
   "execution_count": null,
   "metadata": {},
   "outputs": [],
   "source": [
    "fig, aes = plt.subplots(nrows = 2, ncols = 3 , figsize = (20,20))\n",
    "\n",
    "df = sns.distplot(dados[\"largura_sépala\"], ax = aes[0,0])\n",
    "df = sns.distplot(dados[\"largura_pétala\"], ax = aes[0,1])\n",
    "df = sns.distplot(dados[\"comprimento_sépala\"], ax = aes[0,2])\n",
    "df = sns.distplot(dados[\"comprimento_pétala\"], ax = aes[1,0])\n",
    "\n",
    "plt.show()"
   ]
  },
  {
   "cell_type": "code",
   "execution_count": null,
   "metadata": {},
   "outputs": [],
   "source": [
    "dados.hist(bins = 50, figsize=(20, 10))\n",
    "plt.show()"
   ]
  },
  {
   "cell_type": "code",
   "execution_count": null,
   "metadata": {},
   "outputs": [],
   "source": [
    "plt.figure(figsize=(10,8))\n",
    "\n",
    "df = sns.pairplot(dados)"
   ]
  },
  {
   "cell_type": "code",
   "execution_count": null,
   "metadata": {},
   "outputs": [],
   "source": [
    "plt.figure(figsize=(10,8))\n",
    "\n",
    "corr = sns.heatmap(dados.corr(), annot = True,cmap = 'cubehelix_r')\n",
    "plt.show()"
   ]
  },
  {
   "cell_type": "markdown",
   "metadata": {},
   "source": [
    "# Modelo machine learning"
   ]
  },
  {
   "cell_type": "code",
   "execution_count": null,
   "metadata": {},
   "outputs": [],
   "source": [
    "dados.corr()"
   ]
  },
  {
   "cell_type": "code",
   "execution_count": null,
   "metadata": {},
   "outputs": [],
   "source": [
    "previsores = dados.iloc[:, 1:4].values\n",
    "classe = dados.iloc[:, 4].values"
   ]
  },
  {
   "cell_type": "code",
   "execution_count": null,
   "metadata": {},
   "outputs": [],
   "source": [
    "from sklearn.impute import SimpleImputer\n",
    "\n",
    "imputer = SimpleImputer(missing_values=np.nan, strategy='mean')\n",
    "imputer = imputer.fit(previsores[:, 1:4])\n",
    "previsores[:, 1:4] = imputer.transform(previsores[:, 1:4])\n",
    "previsores"
   ]
  },
  {
   "cell_type": "code",
   "execution_count": null,
   "metadata": {},
   "outputs": [],
   "source": [
    "from sklearn.preprocessing import StandardScaler\n",
    "\n",
    "scaler = StandardScaler()\n",
    "previsores = scaler.fit_transform(previsores)\n",
    "previsores"
   ]
  },
  {
   "cell_type": "code",
   "execution_count": null,
   "metadata": {},
   "outputs": [],
   "source": [
    "from sklearn.model_selection import train_test_split\n",
    "\n",
    "previsores_treinamento, previsores_teste, classe_treinamento, classe_teste = train_test_split(previsores, classe, test_size=0.25, random_state=0)\n",
    "previsores_treinamento"
   ]
  },
  {
   "cell_type": "markdown",
   "metadata": {},
   "source": [
    "**Naive bayes**"
   ]
  },
  {
   "cell_type": "code",
   "execution_count": null,
   "metadata": {},
   "outputs": [],
   "source": [
    "from sklearn.naive_bayes import GaussianNB\n",
    "\n",
    "naive = GaussianNB()\n",
    "naive.fit(previsores_treinamento, classe_treinamento)\n",
    "naive_prev = naive.predict(previsores_teste)\n",
    "naive_prev"
   ]
  },
  {
   "cell_type": "code",
   "execution_count": null,
   "metadata": {},
   "outputs": [],
   "source": [
    "from sklearn.metrics import confusion_matrix, accuracy_score\n",
    "\n",
    "Acuracia = accuracy_score(classe_teste, naive_prev)\n",
    "matriz = confusion_matrix(classe_teste, naive_prev)\n",
    "\n",
    "print(\"Acuracia de: %.2f\" % (Acuracia * 100))"
   ]
  },
  {
   "cell_type": "code",
   "execution_count": null,
   "metadata": {},
   "outputs": [],
   "source": [
    "import collections\n",
    "\n",
    "collections.Counter(classe_teste)"
   ]
  },
  {
   "cell_type": "code",
   "execution_count": null,
   "metadata": {},
   "outputs": [],
   "source": [
    "plt.figure(figsize=(10,8))\n",
    "\n",
    "sns.heatmap(matriz, annot = True,cmap = 'cubehelix_r')\n",
    "plt.show()"
   ]
  },
  {
   "cell_type": "code",
   "execution_count": null,
   "metadata": {},
   "outputs": [],
   "source": []
  }
 ],
 "metadata": {
  "kernelspec": {
   "display_name": "Python 3",
   "language": "python",
   "name": "python3"
  },
  "language_info": {
   "codemirror_mode": {
    "name": "ipython",
    "version": 3
   },
   "file_extension": ".py",
   "mimetype": "text/x-python",
   "name": "python",
   "nbconvert_exporter": "python",
   "pygments_lexer": "ipython3",
   "version": "3.7.7"
  }
 },
 "nbformat": 4,
 "nbformat_minor": 4
}
